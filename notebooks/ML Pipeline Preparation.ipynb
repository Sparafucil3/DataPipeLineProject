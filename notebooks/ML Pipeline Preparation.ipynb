{
 "cells": [
  {
   "cell_type": "markdown",
   "metadata": {},
   "source": [
    "# ML Pipeline Preparation\n",
    "Follow the instructions below to help you create your ML pipeline.\n",
    "### 1. Import libraries and load data from database.\n",
    "- Import Python libraries\n",
    "- Load dataset from database with [`read_sql_table`](https://pandas.pydata.org/pandas-docs/stable/generated/pandas.read_sql_table.html)\n",
    "- Define feature and target variables X and Y"
   ]
  },
  {
   "cell_type": "code",
   "execution_count": 80,
   "metadata": {},
   "outputs": [
    {
     "name": "stdout",
     "output_type": "stream",
     "text": [
      "[nltk_data] Downloading package punkt to /root/nltk_data...\n",
      "[nltk_data]   Package punkt is already up-to-date!\n",
      "[nltk_data] Downloading package wordnet to /root/nltk_data...\n",
      "[nltk_data]   Package wordnet is already up-to-date!\n"
     ]
    }
   ],
   "source": [
    "# import nltk and parsing dictionaries\n",
    "import nltk\n",
    "nltk.download('punkt')\n",
    "nltk.download('wordnet')\n",
    "\n",
    "# import libraries and functions\n",
    "import pandas as pd\n",
    "import numpy as np\n",
    "import re\n",
    "from nltk.tokenize import word_tokenize\n",
    "from nltk.stem import WordNetLemmatizer\n",
    "from sqlalchemy import create_engine\n",
    "from sklearn.pipeline import Pipeline\n",
    "from sklearn.feature_extraction.text import CountVectorizer, TfidfTransformer\n",
    "from sklearn.multioutput import MultiOutputClassifier\n",
    "from sklearn.ensemble import RandomForestClassifier\n",
    "from sklearn.model_selection import train_test_split\n",
    "from sklearn.metrics import classification_report\n",
    "from sklearn.model_selection import GridSearchCV\n",
    "import pickle"
   ]
  },
  {
   "cell_type": "code",
   "execution_count": 55,
   "metadata": {},
   "outputs": [],
   "source": [
    "# load data from database\n",
    "engine = create_engine('sqlite:///DisasterResponse.db')\n",
    "df = pd.read_sql(\"SELECT * FROM CleanedMessages\", engine)\n",
    "X = df['message']\n",
    "y = df.drop(columns=['message', 'id','original', 'genre'], axis=1)"
   ]
  },
  {
   "cell_type": "markdown",
   "metadata": {},
   "source": [
    "### 2. Write a tokenization function to process your text data"
   ]
  },
  {
   "cell_type": "code",
   "execution_count": 56,
   "metadata": {},
   "outputs": [],
   "source": [
    "def tokenize(text):\n",
    "    # delete punctuation\n",
    "    text = re.sub(r'[^a-zA-Z0-9]', ' ',text)\n",
    "    \n",
    "    # Tokenize \n",
    "    tokens = word_tokenize(text)\n",
    "    \n",
    "    # lemmatize\n",
    "    lemmatizer = WordNetLemmatizer()\n",
    "\n",
    "\n",
    "    # Remove stop words    \n",
    "    cleaned_tokens = []\n",
    "    for toke in tokens:\n",
    "        clean_toke = lemmatizer.lemmatize(toke, pos='n').strip()\n",
    "        clean_toke = lemmatizer.lemmatize(clean_toke, pos='v')\n",
    "        cleaned_tokens.append(clean_toke)    \n",
    "    \n",
    "    return cleaned_tokens"
   ]
  },
  {
   "cell_type": "markdown",
   "metadata": {},
   "source": [
    "### 3. Build a machine learning pipeline\n",
    "This machine pipeline should take in the `message` column as input and output classification results on the other 36 categories in the dataset. You may find the [MultiOutputClassifier](http://scikit-learn.org/stable/modules/generated/sklearn.multioutput.MultiOutputClassifier.html) helpful for predicting multiple target variables."
   ]
  },
  {
   "cell_type": "code",
   "execution_count": 57,
   "metadata": {},
   "outputs": [],
   "source": [
    "# Using RandomForrest Classifier for initial pass as it seesm a best fit for the problem type\n",
    "pipeline = Pipeline([\n",
    "        ('vect', CountVectorizer(tokenizer=tokenize)),\n",
    "        ('tfidf', TfidfTransformer()),\n",
    "        ('clf', MultiOutputClassifier(RandomForestClassifier()))\n",
    "    ])"
   ]
  },
  {
   "cell_type": "markdown",
   "metadata": {},
   "source": [
    "### 4. Train pipeline\n",
    "- Split data into train and test sets\n",
    "- Train pipeline"
   ]
  },
  {
   "cell_type": "code",
   "execution_count": 58,
   "metadata": {},
   "outputs": [
    {
     "data": {
      "text/plain": [
       "Pipeline(memory=None,\n",
       "     steps=[('vect', CountVectorizer(analyzer='word', binary=False, decode_error='strict',\n",
       "        dtype=<class 'numpy.int64'>, encoding='utf-8', input='content',\n",
       "        lowercase=True, max_df=1.0, max_features=None, min_df=1,\n",
       "        ngram_range=(1, 1), preprocessor=None, stop_words=None,\n",
       "        strip...oob_score=False, random_state=None, verbose=0,\n",
       "            warm_start=False),\n",
       "           n_jobs=1))])"
      ]
     },
     "execution_count": 58,
     "metadata": {},
     "output_type": "execute_result"
    }
   ],
   "source": [
    "X_train, X_test, y_train, y_test = train_test_split(X, y, test_size=0.30, random_state=42)\n",
    "pipeline.fit(X_train, y_train)"
   ]
  },
  {
   "cell_type": "markdown",
   "metadata": {},
   "source": [
    "### 5. Test your model\n",
    "Report the f1 score, precision and recall for each output category of the dataset. You can do this by iterating through the columns and calling sklearn's `classification_report` on each."
   ]
  },
  {
   "cell_type": "code",
   "execution_count": 63,
   "metadata": {},
   "outputs": [
    {
     "name": "stdout",
     "output_type": "stream",
     "text": [
      "                        precision    recall  f1-score   support\n",
      "\n",
      "               related       0.77      0.93      0.84      6002\n",
      "               request       0.36      0.06      0.10      1308\n",
      "                 offer       0.00      0.00      0.00        32\n",
      "           aid_related       0.44      0.20      0.28      3203\n",
      "          medical_help       0.02      0.00      0.00       611\n",
      "      medical_products       0.04      0.01      0.01       375\n",
      "     search_and_rescue       0.14      0.00      0.01       210\n",
      "              security       0.00      0.00      0.00       161\n",
      "              military       0.40      0.01      0.02       259\n",
      "           child_alone       0.00      0.00      0.00         0\n",
      "                 water       0.06      0.00      0.01       474\n",
      "                  food       0.15      0.01      0.01       831\n",
      "               shelter       0.10      0.01      0.01       707\n",
      "              clothing       0.00      0.00      0.00       124\n",
      "                 money       0.11      0.01      0.01       184\n",
      "        missing_people       0.00      0.00      0.00        99\n",
      "              refugees       0.00      0.00      0.00       304\n",
      "                 death       0.00      0.00      0.00       357\n",
      "             other_aid       0.15      0.01      0.03       998\n",
      "infrastructure_related       0.07      0.00      0.01       514\n",
      "             transport       0.08      0.00      0.01       374\n",
      "             buildings       0.06      0.01      0.01       409\n",
      "           electricity       0.17      0.01      0.01       159\n",
      "                 tools       0.00      0.00      0.00        42\n",
      "             hospitals       0.00      0.00      0.00        89\n",
      "                 shops       0.00      0.00      0.00        38\n",
      "           aid_centers       0.00      0.00      0.00        96\n",
      "  other_infrastructure       0.00      0.00      0.00       347\n",
      "       weather_related       0.50      0.14      0.22      2174\n",
      "                floods       0.22      0.01      0.01       653\n",
      "                 storm       0.36      0.04      0.08       753\n",
      "                  fire       0.00      0.00      0.00        76\n",
      "            earthquake       0.64      0.13      0.21       743\n",
      "                  cold       0.00      0.00      0.00       154\n",
      "         other_weather       0.25      0.00      0.01       394\n",
      "         direct_report       0.32      0.05      0.09      1484\n",
      "\n",
      "           avg / total       0.39      0.28      0.28     24738\n",
      "\n"
     ]
    },
    {
     "name": "stderr",
     "output_type": "stream",
     "text": [
      "/opt/conda/lib/python3.6/site-packages/sklearn/metrics/classification.py:1135: UndefinedMetricWarning: Precision and F-score are ill-defined and being set to 0.0 in labels with no predicted samples.\n",
      "  'precision', 'predicted', average, warn_for)\n",
      "/opt/conda/lib/python3.6/site-packages/sklearn/metrics/classification.py:1137: UndefinedMetricWarning: Recall and F-score are ill-defined and being set to 0.0 in labels with no true samples.\n",
      "  'recall', 'true', average, warn_for)\n"
     ]
    }
   ],
   "source": [
    "# use fitted model to get predicted values\n",
    "predicted = pipeline.predict(X_test)\n",
    "\n",
    "# select columns from y to show f1 score\n",
    "target_names = y.columns\n",
    "print(classification_report(y_test, predicted, target_names=target_names))"
   ]
  },
  {
   "cell_type": "markdown",
   "metadata": {},
   "source": [
    "### 6. Improve your model\n",
    "Use grid search to find better parameters. "
   ]
  },
  {
   "cell_type": "code",
   "execution_count": 76,
   "metadata": {},
   "outputs": [
    {
     "data": {
      "text/plain": [
       "GridSearchCV(cv=None, error_score='raise',\n",
       "       estimator=Pipeline(memory=None,\n",
       "     steps=[('vect', CountVectorizer(analyzer='word', binary=False, decode_error='strict',\n",
       "        dtype=<class 'numpy.int64'>, encoding='utf-8', input='content',\n",
       "        lowercase=True, max_df=1.0, max_features=None, min_df=1,\n",
       "        ngram_range=(1, 1), preprocessor=None, stop_words=None,\n",
       "        strip...oob_score=False, random_state=None, verbose=0,\n",
       "            warm_start=False),\n",
       "           n_jobs=1))]),\n",
       "       fit_params=None, iid=True, n_jobs=1,\n",
       "       param_grid={'tfidf__norm': ['l1', 'l2'], 'clf__estimator__criterion': ['gini', 'entropy'], 'clf__estimator__class_weight': ['balanced', None]},\n",
       "       pre_dispatch='2*n_jobs', refit=True, return_train_score='warn',\n",
       "       scoring=None, verbose=0)"
      ]
     },
     "execution_count": 76,
     "metadata": {},
     "output_type": "execute_result"
    }
   ],
   "source": [
    "# parameters used for passing to the Pipeline. The parameter passed to the estimator:\n",
    "# criterion: measures the quality of the split\n",
    "# class_weight: attempts to balance imballanced data\n",
    "parameters = {'tfidf__norm': ['l1','l2'],\n",
    "              'clf__estimator__criterion': [\"gini\", \"entropy\"],\n",
    "              'clf__estimator__class_weight': ['balanced', None]\n",
    "             }\n",
    "\n",
    "# Grid CV for testing\n",
    "cv = GridSearchCV(pipeline, param_grid=parameters)\n",
    "\n",
    "# This step is slow, it is running against a lot of data and running many different combinations\n",
    "cv.fit(X_train, y_train)"
   ]
  },
  {
   "cell_type": "code",
   "execution_count": 77,
   "metadata": {},
   "outputs": [
    {
     "name": "stdout",
     "output_type": "stream",
     "text": [
      "best est: Pipeline(memory=None,\n",
      "     steps=[('vect', CountVectorizer(analyzer='word', binary=False, decode_error='strict',\n",
      "        dtype=<class 'numpy.int64'>, encoding='utf-8', input='content',\n",
      "        lowercase=True, max_df=1.0, max_features=None, min_df=1,\n",
      "        ngram_range=(1, 1), preprocessor=None, stop_words=None,\n",
      "        strip...oob_score=False, random_state=None, verbose=0,\n",
      "            warm_start=False),\n",
      "           n_jobs=1))]) \n",
      "\n",
      "best score: 0.15569123419101613 \n",
      "\n",
      "scores: [mean: 0.14702, std: 0.00288, params: {'clf__estimator__class_weight': 'balanced', 'clf__estimator__criterion': 'gini', 'tfidf__norm': 'l1'}, mean: 0.14691, std: 0.00319, params: {'clf__estimator__class_weight': 'balanced', 'clf__estimator__criterion': 'gini', 'tfidf__norm': 'l2'}, mean: 0.15008, std: 0.00352, params: {'clf__estimator__class_weight': 'balanced', 'clf__estimator__criterion': 'entropy', 'tfidf__norm': 'l1'}, mean: 0.14779, std: 0.00335, params: {'clf__estimator__class_weight': 'balanced', 'clf__estimator__criterion': 'entropy', 'tfidf__norm': 'l2'}, mean: 0.15204, std: 0.00563, params: {'clf__estimator__class_weight': None, 'clf__estimator__criterion': 'gini', 'tfidf__norm': 'l1'}, mean: 0.14910, std: 0.00207, params: {'clf__estimator__class_weight': None, 'clf__estimator__criterion': 'gini', 'tfidf__norm': 'l2'}, mean: 0.15569, std: 0.00583, params: {'clf__estimator__class_weight': None, 'clf__estimator__criterion': 'entropy', 'tfidf__norm': 'l1'}, mean: 0.15198, std: 0.00427, params: {'clf__estimator__class_weight': None, 'clf__estimator__criterion': 'entropy', 'tfidf__norm': 'l2'}] \n",
      "\n"
     ]
    },
    {
     "name": "stderr",
     "output_type": "stream",
     "text": [
      "/opt/conda/lib/python3.6/site-packages/sklearn/model_selection/_search.py:761: DeprecationWarning: The grid_scores_ attribute was deprecated in version 0.18 in favor of the more elaborate cv_results_ attribute. The grid_scores_ attribute will not be available from 0.20\n",
      "  DeprecationWarning)\n"
     ]
    }
   ],
   "source": [
    "# best estimator, best score, grid_scores_ for the GridSearchCV results\n",
    "print(f'best est: {cv.best_estimator_} \\n')\n",
    "print(f'best score: {cv.best_score_} \\n')\n",
    "print(f'scores: {cv.grid_scores_} \\n')"
   ]
  },
  {
   "cell_type": "markdown",
   "metadata": {},
   "source": [
    "### 7. Test your model\n",
    "Show the accuracy, precision, and recall of the tuned model.  \n",
    "\n",
    "Since this project focuses on code quality, process, and  pipelines, there is no minimum performance metric needed to pass. However, make sure to fine tune your models for accuracy, precision and recall to make your project stand out - especially for your portfolio!"
   ]
  },
  {
   "cell_type": "code",
   "execution_count": 78,
   "metadata": {},
   "outputs": [
    {
     "name": "stdout",
     "output_type": "stream",
     "text": [
      "                        precision    recall  f1-score   support\n",
      "\n",
      "               related       0.77      0.94      0.84      6002\n",
      "               request       0.41      0.07      0.12      1308\n",
      "                 offer       0.00      0.00      0.00        32\n",
      "           aid_related       0.44      0.21      0.28      3203\n",
      "          medical_help       0.00      0.00      0.00       611\n",
      "      medical_products       0.00      0.00      0.00       375\n",
      "     search_and_rescue       0.00      0.00      0.00       210\n",
      "              security       0.00      0.00      0.00       161\n",
      "              military       0.33      0.00      0.01       259\n",
      "           child_alone       0.00      0.00      0.00         0\n",
      "                 water       0.00      0.00      0.00       474\n",
      "                  food       0.17      0.00      0.01       831\n",
      "               shelter       0.11      0.00      0.00       707\n",
      "              clothing       0.00      0.00      0.00       124\n",
      "                 money       0.33      0.01      0.01       184\n",
      "        missing_people       0.00      0.00      0.00        99\n",
      "              refugees       0.00      0.00      0.00       304\n",
      "                 death       0.20      0.00      0.01       357\n",
      "             other_aid       0.11      0.01      0.01       998\n",
      "infrastructure_related       0.00      0.00      0.00       514\n",
      "             transport       0.00      0.00      0.00       374\n",
      "             buildings       0.09      0.00      0.01       409\n",
      "           electricity       0.00      0.00      0.00       159\n",
      "                 tools       0.00      0.00      0.00        42\n",
      "             hospitals       0.00      0.00      0.00        89\n",
      "                 shops       0.00      0.00      0.00        38\n",
      "           aid_centers       0.00      0.00      0.00        96\n",
      "  other_infrastructure       0.00      0.00      0.00       347\n",
      "       weather_related       0.55      0.15      0.24      2174\n",
      "                floods       0.10      0.00      0.00       653\n",
      "                 storm       0.52      0.04      0.07       753\n",
      "                  fire       0.00      0.00      0.00        76\n",
      "            earthquake       0.67      0.11      0.19       743\n",
      "                  cold       0.00      0.00      0.00       154\n",
      "         other_weather       0.00      0.00      0.00       394\n",
      "         direct_report       0.35      0.05      0.09      1484\n",
      "\n",
      "           avg / total       0.40      0.28      0.28     24738\n",
      "\n"
     ]
    },
    {
     "name": "stderr",
     "output_type": "stream",
     "text": [
      "/opt/conda/lib/python3.6/site-packages/sklearn/metrics/classification.py:1135: UndefinedMetricWarning: Precision and F-score are ill-defined and being set to 0.0 in labels with no predicted samples.\n",
      "  'precision', 'predicted', average, warn_for)\n",
      "/opt/conda/lib/python3.6/site-packages/sklearn/metrics/classification.py:1137: UndefinedMetricWarning: Recall and F-score are ill-defined and being set to 0.0 in labels with no true samples.\n",
      "  'recall', 'true', average, warn_for)\n"
     ]
    }
   ],
   "source": [
    "cvpredicted = cv.predict(X_test)\n",
    "\n",
    "# ideally, this should be a function since I have called it twice now\n",
    "target_names = y.columns\n",
    "print(classification_report(y_test, cvpredicted, target_names=target_names))"
   ]
  },
  {
   "cell_type": "markdown",
   "metadata": {},
   "source": [
    "### 8. Try improving your model further. Here are a few ideas:\n",
    "* try other machine learning algorithms\n",
    "* add other features besides the TF-IDF"
   ]
  },
  {
   "cell_type": "code",
   "execution_count": null,
   "metadata": {},
   "outputs": [],
   "source": [
    "## I will try other algorithms once I have the work flow for the project complete"
   ]
  },
  {
   "cell_type": "markdown",
   "metadata": {},
   "source": [
    "### 9. Export your model as a pickle file"
   ]
  },
  {
   "cell_type": "code",
   "execution_count": 82,
   "metadata": {},
   "outputs": [],
   "source": [
    "pickle.dump(cv, open('learningmodel.pkl', \"wb\"))"
   ]
  },
  {
   "cell_type": "markdown",
   "metadata": {},
   "source": [
    "### 10. Use this notebook to complete `train.py`\n",
    "Use the template file attached in the Resources folder to write a script that runs the steps above to create a database and export a model based on a new dataset specified by the user."
   ]
  },
  {
   "cell_type": "code",
   "execution_count": null,
   "metadata": {},
   "outputs": [],
   "source": []
  }
 ],
 "metadata": {
  "kernelspec": {
   "display_name": "Python 3",
   "language": "python",
   "name": "python3"
  },
  "language_info": {
   "codemirror_mode": {
    "name": "ipython",
    "version": 3
   },
   "file_extension": ".py",
   "mimetype": "text/x-python",
   "name": "python",
   "nbconvert_exporter": "python",
   "pygments_lexer": "ipython3",
   "version": "3.6.3"
  }
 },
 "nbformat": 4,
 "nbformat_minor": 2
}
